{
 "cells": [
  {
   "cell_type": "markdown",
   "metadata": {},
   "source": [
    "<p style=\"text-align:center\">\n",
    "    <a href=\"https://skills.network\" target=\"_blank\">\n",
    "    <img src=\"https://cf-courses-data.s3.us.cloud-object-storage.appdomain.cloud/assets/logos/SN_web_lightmode.png\" width=\"200\" alt=\"Skills Network Logo\">\n",
    "    </a>\n",
    "</p>\n"
   ]
  },
  {
   "cell_type": "markdown",
   "metadata": {},
   "source": [
    "# **Integrating Word2Vec Part1**\n"
   ]
  },
  {
   "cell_type": "markdown",
   "metadata": {},
   "source": [
    "Estimated time needed: **40** minutes\n"
   ]
  },
  {
   "cell_type": "markdown",
   "metadata": {},
   "source": [
    "\"The worlds most valuable resource is no longer oil, but data\", you hear that a lot, but did you ever wonder what that really means. Through word2vec, you'll unlock the power of words in large datasets, providing you with the tools to tackle real-world problems effectively.\n",
    " <img src=\"https://cf-courses-data.s3.us.cloud-object-storage.appdomain.cloud/IBMSkillsNetwork-AI0201EN-Coursera/data_oil.png\" alt=\"new oild\">\n",
    "    \n"
   ]
  },
  {
   "cell_type": "markdown",
   "metadata": {},
   "source": [
    "Here, you will be introduced to the Skip-gram and CBOW models, teaching how to build and apply these for text classification in PyTorch. You'll also incorporate pretrained GloVe embeddings to enhance the models. \n"
   ]
  },
  {
   "cell_type": "markdown",
   "metadata": {},
   "source": [
    "## __Table of Contents__\n",
    "\n",
    "<ol>\n",
    "    <li><a href=\"#Objectives\">Objectives</a></li>\n",
    "    <li>\n",
    "        <a href=\"#Setup\">Setup</a>\n",
    "        <ol>\n",
    "            <li><a href=\"#Installing-required-libraries\">Installing required libraries</a></li>\n",
    "            <li><a href=\"#Importing-Required-Libraries\">Importing required libraries</a></li>\n",
    "        </ol>\n",
    "    </li>\n",
    "    <li>\n",
    "        <a href=\"#Background\">Background</a>\n",
    "        <ol>\n",
    "            <li><a href=\"#Word2Vec\">Word2Vec</a></li>\n",
    "            <li><a href=\"#GloVe-(Optional)\">GloVe (Optional)</a></li>\n",
    "        </ol>\n",
    "    </li>\n",
    "    <li><a href=\"#Create-and-train-word2vec-models\">Create and train word2vec models</a></li>\n",
    "        <ol>\n",
    "            <li><a href=\"#Continuous-Bag-of-Words-(CBOW)\">Continuous Bag of Words (CBOW)</a></li>\n",
    "            <li><a href=\"#Skip-gram-model\">Skip-gram model</a></li>\n",
    "        </ol>\n",
    "    \n",
    "</ol>\n"
   ]
  },
  {
   "cell_type": "markdown",
   "metadata": {},
   "source": [
    "## Objectives\n",
    "\n",
    "After completing this lab you will be able to:\n",
    "- Comprehend word embedding with word2vec.\n",
    "- Create and train basic word2vec models using CBOW and Skip-gram architectures.\n",
    "\n"
   ]
  },
  {
   "cell_type": "markdown",
   "metadata": {},
   "source": [
    "----\n"
   ]
  },
  {
   "cell_type": "markdown",
   "metadata": {},
   "source": [
    "## Setup\n"
   ]
  },
  {
   "cell_type": "markdown",
   "metadata": {},
   "source": [
    "For this lab, you will be using the following libraries:\n",
    "\n",
    "*   [`torch`](https://pandas.pydata.org/?utm_medium=Exinfluencer&utm_source=Exinfluencer&utm_content=000026UJ&utm_term=10006555&utm_id=NA-SkillsNetwork-Channel-SkillsNetworkCoursesIBMML0187ENSkillsNetwork31430127-2021-01-01) for building NN models and preparing the data.\n",
    "*   [`numpy`](https://numpy.org/?utm_medium=Exinfluencer&utm_source=Exinfluencer&utm_content=000026UJ&utm_term=10006555&utm_id=NA-SkillsNetwork-Channel-SkillsNetworkCoursesIBMML0187ENSkillsNetwork31430127-2021-01-01) for mathematical operations.\n",
    "*   [`gensim`](https://pypi.org/project/gensim/) for word2vec pretrained models.\n",
    "*   [`seaborn`](https://seaborn.pydata.org/?utm_medium=Exinfluencer&utm_source=Exinfluencer&utm_content=000026UJ&utm_term=10006555&utm_id=NA-SkillsNetwork-Channel-SkillsNetworkCoursesIBMML0187ENSkillsNetwork31430127-2021-01-01) for visualizing the data.\n",
    "*   [`matplotlib`](https://matplotlib.org/?utm_medium=Exinfluencer&utm_source=Exinfluencer&utm_content=000026UJ&utm_term=10006555&utm_id=NA-SkillsNetwork-Channel-SkillsNetworkCoursesIBMML0187ENSkillsNetwork31430127-2021-01-01) for additional plotting tools.\n"
   ]
  },
  {
   "cell_type": "markdown",
   "metadata": {},
   "source": [
    "### Installing required libraries\n"
   ]
  },
  {
   "cell_type": "code",
   "execution_count": 1,
   "metadata": {},
   "outputs": [],
   "source": [
    "%%capture\n",
    "!pip install pandas==1.3.4\n",
    "!pip install numpy==1.26.4\n",
    "!pip install seaborn\n",
    "!pip install matplotlib\n",
    "!pip install scikit-learn"
   ]
  },
  {
   "cell_type": "markdown",
   "metadata": {},
   "source": [
    "The following required libraries are __not__ pre-installed in the Skills Network Labs environment. __You will need to run the following cell__ to install them:\n"
   ]
  },
  {
   "cell_type": "code",
   "execution_count": null,
   "metadata": {},
   "outputs": [],
   "source": [
    "%%capture\n",
    "!pip install gensim #4.2.0\n",
    "!pip install portalocker>=2.0.0\n",
    "!pip install torch==2.2.2\n",
    "!pip install torchdata==0.7.1\n",
    "!pip install torchtext==0.17.2"
   ]
  },
  {
   "cell_type": "markdown",
   "metadata": {},
   "source": [
    "<h3 style=\"color:red;\">After installation, restart the kernel and run all cells from \"Importing Required Libraries.\"</h3>\n"
   ]
  },
  {
   "cell_type": "markdown",
   "metadata": {},
   "source": [
    "### Importing required libraries\n",
    "\n",
    "_It is recommended that you import all required libraries in one place (here):_\n"
   ]
  },
  {
   "cell_type": "code",
   "execution_count": null,
   "metadata": {},
   "outputs": [],
   "source": [
    "import numpy as np\n",
    "import pandas as pd\n",
    "import matplotlib.pyplot as plt\n",
    "# import seaborn as sns\n",
    "from sklearn.manifold import TSNE\n",
    "\n",
    "from IPython.core.display import display, SVG\n",
    "\n",
    "\n",
    "from torchtext.vocab import build_vocab_from_iterator\n",
    "from torch.utils.data import Dataset\n",
    "\n",
    "\n",
    "import logging\n",
    "from gensim.models import Word2Vec\n",
    "from collections import defaultdict\n",
    "import torch\n",
    "import torch.nn as nn\n",
    "import torch.optim as optim\n",
    "from torchtext.vocab import GloVe,vocab\n",
    "from torchdata.datapipes.iter import IterableWrapper, Mapper\n",
    "from torchtext.datasets import AG_NEWS\n",
    "from torch.utils.data.dataset import random_split\n",
    "from torchtext.data.functional import to_map_style_dataset\n",
    "from torchtext.data.utils import get_tokenizer\n",
    "from torch.utils.data import DataLoader\n",
    "from tqdm import tqdm\n",
    "\n",
    "%matplotlib inline\n",
    "\n",
    "# You can also use this section to suppress warnings generated by your code:\n",
    "def warn(*args, **kwargs):\n",
    "    pass\n",
    "import warnings\n",
    "warnings.warn = warn\n",
    "warnings.filterwarnings('ignore')\n"
   ]
  },
  {
   "cell_type": "markdown",
   "metadata": {},
   "source": [
    "Define a function to plot word embeddings in a 2d space.\n"
   ]
  },
  {
   "cell_type": "code",
   "execution_count": null,
   "metadata": {},
   "outputs": [],
   "source": [
    "def plot_embeddings(word_embeddings,vocab=vocab):\n",
    "\n",
    "    tsne = TSNE(n_components=2, random_state=0)\n",
    "    word_embeddings_2d = tsne.fit_transform(word_embeddings)\n",
    "\n",
    "    # Plotting the results with labels from vocab\n",
    "    plt.figure(figsize=(15, 15))\n",
    "    for i, word in enumerate(vocab.get_itos() ):  # assuming vocab.itos gives the list of words in your vocab\n",
    "        plt.scatter(word_embeddings_2d[i, 0], word_embeddings_2d[i, 1])\n",
    "        plt.annotate(word, (word_embeddings_2d[i, 0], word_embeddings_2d[i, 1]))\n",
    "\n",
    "    plt.xlabel(\"t-SNE component 1\")\n",
    "    plt.ylabel(\"t-SNE component 2\")\n",
    "    plt.title(\"Word Embeddings visualized with t-SNE\")\n",
    "    plt.show()"
   ]
  },
  {
   "cell_type": "markdown",
   "metadata": {},
   "source": [
    "Define a function that returns similar words to a specific word by calculating Cosine distance.\n"
   ]
  },
  {
   "cell_type": "code",
   "execution_count": null,
   "metadata": {},
   "outputs": [],
   "source": [
    "# This function returns the most similar words to a target word by calculating word vectors' cosine distance\n",
    "def find_similar_words(word, word_embeddings, top_k=5):\n",
    "    if word not in word_embeddings:\n",
    "        print(\"Word not found in embeddings.\")\n",
    "        return []\n",
    "\n",
    "    # Get the embedding for the given word\n",
    "    target_embedding = word_embeddings[word]\n",
    "\n",
    "    # Calculate cosine similarities between the target word and all other words\n",
    "    similarities = {}\n",
    "    for w, embedding in word_embeddings.items():\n",
    "        if w != word:\n",
    "            similarity = torch.dot(target_embedding, embedding) / (\n",
    "                torch.norm(target_embedding) * torch.norm(embedding)\n",
    "            )\n",
    "            similarities[w] = similarity.item()\n",
    "\n",
    "    # Sort the similarities in descending order\n",
    "    sorted_similarities = sorted(similarities.items(), key=lambda x: x[1], reverse=True)\n",
    "\n",
    "    # Return the top k similar words\n",
    "    most_similar_words = [w for w, _ in sorted_similarities[:top_k]]\n",
    "    return most_similar_words"
   ]
  },
  {
   "cell_type": "markdown",
   "metadata": {},
   "source": [
    "Define a function that trains word2vec model on toy data.\n"
   ]
  },
  {
   "cell_type": "code",
   "execution_count": null,
   "metadata": {},
   "outputs": [],
   "source": [
    "def train_model(model, dataloader, criterion, optimizer, num_epochs=1000):\n",
    "    \"\"\"\n",
    "    Train the model for the specified number of epochs.\n",
    "    \n",
    "    Args:\n",
    "        model: The PyTorch model to be trained.\n",
    "        dataloader: DataLoader providing data for training.\n",
    "        criterion: Loss function.\n",
    "        optimizer: Optimizer for updating model's weights.\n",
    "        num_epochs: Number of epochs to train the model for.\n",
    "\n",
    "    Returns:\n",
    "        model: The trained model.\n",
    "        epoch_losses: List of average losses for each epoch.\n",
    "    \"\"\"\n",
    "    \n",
    "    # List to store running loss for each epoch\n",
    "    epoch_losses = []\n",
    "\n",
    "    for epoch in tqdm(range(num_epochs)):\n",
    "        # Storing running loss values for the current epoch\n",
    "        running_loss = 0.0\n",
    "\n",
    "        # Using tqdm for a progress bar\n",
    "        for idx, samples in enumerate(dataloader):\n",
    "\n",
    "            optimizer.zero_grad()\n",
    "            \n",
    "            # Check for EmbeddingBag layer in the model\n",
    "            if any(isinstance(module, nn.EmbeddingBag) for _, module in model.named_modules()):\n",
    "                target, context, offsets = samples\n",
    "                predicted = model(context, offsets)\n",
    "            \n",
    "            # Check for Embedding layer in the model\n",
    "            elif any(isinstance(module, nn.Embedding) for _, module in model.named_modules()):\n",
    "                target, context = samples\n",
    "                predicted = model(context)\n",
    "                \n",
    "            loss = criterion(predicted, target)\n",
    "            loss.backward()\n",
    "            torch.nn.utils.clip_grad_norm_(model.parameters(), 0.1)\n",
    "            optimizer.step()\n",
    "            running_loss += loss.item()\n",
    "\n",
    "        # Append average loss for the epoch\n",
    "        epoch_losses.append(running_loss / len(dataloader))\n",
    "    \n",
    "    return model, epoch_losses"
   ]
  },
  {
   "cell_type": "markdown",
   "metadata": {},
   "source": [
    "# Background\n",
    "\n",
    "## Word2Vec\n",
    "\n",
    "Word2Vec is a family of  methods that transforms words into number vectors, positioning similar words close together in a space defined by these numbers. This way, you can quantify and analyze word relationships mathematically. For instance, words like \"cat\" and \"kitten\" or \"cat\" and \"dog\" have vectors that are close to each other, while a word like \"book\" is positioned further away in this vector space.\n",
    "\n",
    "\n",
    "<img src=\"https://cf-courses-data.s3.us.cloud-object-storage.appdomain.cloud/IBMSkillsNetwork-AI0205EN-SkillsNetwork/Words.png\" alt=\"Word2Vec example\" class=\"bg-primary\" width=\"400px\">\n",
    "\n"
   ]
  },
  {
   "cell_type": "markdown",
   "metadata": {},
   "source": [
    "In this lab session, you'll concentrate on mastering Skip-gram and Continuous Bag of Words (CBOW) models, which are essential precursors to grasping the principles of generative modeling. Additionally, you'll explore the GloVe model, and an **optional** summary will be provided to enhance your understanding of its application in natural language processing.\n",
    "## GloVe (Optional)\n",
    "\n",
    "\n",
    "\n",
    "GloVe, on the other hand, is another popular algorithm for learning word embeddings. It stands for Global Vectors for Word Representation. Unlike word2vec, which is based on predicting context/target words, GloVe focuses on capturing the global word co-occurrence statistics from the entire corpus. It constructs a co-occurrence matrix that represents how often words appear together in the text. The matrix is then factorized to obtain the word embeddings. For example, if \"Man\" and \"King\" co-occure many times, their vectors will be simialr.\n",
    "\n",
    "The GloVe model follows a fundamental approach by constructing a large word-context co-occurrence matrix that contains pairs of (word, context). Each entry in this matrix represents the frequency of a word occurring within a given context, which can be a sequence of words. The objective of the model is to utilize matrix factorization techniques to approximate this co-occurrence matrix. The process is illustrated in the following diagram:\n",
    "\n",
    "1. Create a word-context co-occurrence matrix: The model begins by generating a matrix that captures the co-occurrence information of words and their surrounding contexts. Each element in the matrix represents how often a specific word and context pair co-occur in the training data.\n",
    "\n",
    "2. Apply matrix factorization: Next, the GloVe model applies matrix factorization methods to approximate the word-context co-occurrence matrix. The goal is to decompose the original matrix into lower-dimensional representations that capture the semantic relationships between words and contexts.\n",
    "\n",
    "3. Obtain word and context embeddings: By factorizing the co-occurrence matrix, the model obtains word and context embeddings. These embeddings are numerical representations that encode the semantic meaning and relationships of words and contexts.\n",
    "\n",
    "To accomplish this, you can usually begin by initializing WF (Word-Feature matrix) and FC (Feature-Context matrix) with random weights.You will then perform a multiplication operation between these matrices to obtain WC' (an approximation of WC), and assess its similarity to WC. This process is repeated multiple times using Stochastic Gradient Descent (SGD) to minimize the error(WC'-WC).\n",
    "\n",
    "Once the training is complete, the resulting Word-Feature matrix (WF) provides you with word embeddings or vector representations for each word(the green vector in the diagram). The dimensionality of the embedding vectors can be predetermined by setting the value of F to a specific number of dimensions, allowing for a compact representation of the word semantics.\n",
    "\n",
    "<img src=\"https://cf-courses-data.s3.us.cloud-object-storage.appdomain.cloud/IBMSkillsNetwork-AI0205EN-SkillsNetwork/matrix%20fact.png\" alt=\"Co-occurence matrix\" class=\"bg-primary\" width=\"600px\">\n",
    "\n",
    "The key advantage of GloVe is that it can incorporate both global statistics and local context information. This results in word embeddings that not only capture the semantic relationships between words but also preserve certain syntactic relationships.\n"
   ]
  },
  {
   "cell_type": "markdown",
   "metadata": {},
   "source": [
    "# Create and train word2vec models\n",
    "Now it's time to get your hands dirty. Let's start with a very simple implementation of word2vec to train it on a toy dataset:\n"
   ]
  },
  {
   "cell_type": "code",
   "execution_count": null,
   "metadata": {},
   "outputs": [],
   "source": [
    "toy_data = \"\"\"I wish I was little bit taller\n",
    "I wish I was a baller\n",
    "She wore a small black dress to the party\n",
    "The dog chased a big red ball in the park\n",
    "He had a huge smile on his face when he won the race\n",
    "The tiny kitten played with a fluffy toy mouse\n",
    "The team celebrated their victory with a grand parade\n",
    "She bought a small, delicate necklace for her sister\n",
    "The mountain peak stood majestic and tall against the clear blue sky\n",
    "The toddler took small, careful steps as she learned to walk\n",
    "The house had a spacious backyard with a big swimming pool\n",
    "He felt a sense of accomplishment after completing the challenging puzzle\n",
    "The chef prepared a delicious, flavorful dish using fresh ingredients\n",
    "The children played happily in the small, cozy room\n",
    "The book had an enormous impact on readers around the world\n",
    "The wind blew gently, rustling the leaves of the tall trees\n",
    "She painted a beautiful, intricate design on the small canvas\n",
    "The concert hall was filled with thousands of excited fans\n",
    "The garden was adorned with colorful flowers of all sizes\n",
    "I hope to achieve great success in my chosen career path\n",
    "The skyscraper towered above the city, casting a long shadow\n",
    "He gazed in awe at the breathtaking view from the mountaintop\n",
    "The artist created a stunning masterpiece with bold brushstrokes\n",
    "The baby took her first steps, a small milestone that brought joy to her parents\n",
    "The team put in a tremendous amount of effort to win the championship\n",
    "The sun set behind the horizon, painting the sky in vibrant colors\n",
    "The professor gave a fascinating lecture on the history of ancient civilizations\n",
    "The house was filled with laughter and the sound of children playing\n",
    "She received a warm, enthusiastic welcome from the audience\n",
    "The marathon runner had incredible endurance and determination\n",
    "The child's eyes sparkled with excitement upon opening the gift\n",
    "The ship sailed across the vast ocean, guided by the stars\n",
    "The company achieved remarkable growth in a short period of time\n",
    "The team worked together harmoniously to complete the project\n",
    "The puppy wagged its tail, expressing its happiness and affection\n",
    "She wore a stunning gown that made her feel like a princess\n",
    "The building had a grand entrance with towering columns\n",
    "The concert was a roaring success, with the crowd cheering and clapping\n",
    "The baby took a tiny bite of the sweet, juicy fruit\n",
    "The athlete broke a new record, achieving a significant milestone in her career\n",
    "The sculpture was a masterpiece of intricate details and craftsmanship\n",
    "The forest was filled with towering trees, creating a sense of serenity\n",
    "The children built a small sandcastle on the beach, their imaginations running wild\n",
    "The mountain range stretched as far as the eye could see, majestic and awe-inspiring\n",
    "The artist's brush glided smoothly across the canvas, creating a beautiful painting\n",
    "She received a small token of appreciation for her hard work and dedication\n",
    "The orchestra played a magnificent symphony that moved the audience to tears\n",
    "The flower bloomed in vibrant colors, attracting butterflies and bees\n",
    "The team celebrated their victory with a big, extravagant party\n",
    "The child's laughter echoed through the small room, filling it with joy\n",
    "The sunflower stood tall, reaching for the sky with its bright yellow petals\n",
    "The city skyline was dominated by tall buildings and skyscrapers\n",
    "The cake was adorned with a beautiful, elaborate design for the special occasion\n",
    "The storm brought heavy rain and strong winds, causing widespread damage\n",
    "The small boat sailed peacefully on the calm, glassy lake\n",
    "The artist used bold strokes of color to create a striking and vivid painting\n",
    "The couple shared a passionate kiss under the starry night sky\n",
    "The mountain climber reached the summit after a long and arduous journey\n",
    "The child's eyes widened in amazement as the magician performed his tricks\n",
    "The garden was filled with the sweet fragrance of blooming flowers\n",
    "The basketball player made a big jump and scored a spectacular slam dunk\n",
    "The cat pounced on a small mouse, displaying its hunting instincts\n",
    "The mansion had a grand entrance with a sweeping staircase and chandeliers\n",
    "The raindrops fell gently, creating a rhythmic patter on the roof\n",
    "The baby took a big step forward, encouraged by her parents' applause\n",
    "The actor delivered a powerful and emotional performance on stage\n",
    "The butterfly fluttered its delicate wings, mesmerizing those who watched\n",
    "The company launched a small-scale advertising campaign to test the market\n",
    "The building was constructed with strong, sturdy materials to withstand earthquakes\n",
    "The singer's voice was powerful and resonated throughout the concert hall\n",
    "The child built a massive sandcastle with towers, moats, and bridges\n",
    "The garden was teeming with a variety of small insects and buzzing bees\n",
    "The athlete's muscles were well-developed and strong from years of training\n",
    "The sun cast long shadows as it set behind the mountains\n",
    "The couple exchanged heartfelt vows in a beautiful, intimate ceremony\n",
    "The dog wagged its tail vigorously, a sign of excitement and happiness\n",
    "The baby let out a tiny giggle, bringing joy to everyone around\"\"\"\n"
   ]
  },
  {
   "cell_type": "markdown",
   "metadata": {},
   "source": [
    "Next, you'll prepare data by tokenizing it and creating a vocabulary from data.\n"
   ]
  },
  {
   "cell_type": "code",
   "execution_count": null,
   "metadata": {},
   "outputs": [],
   "source": [
    "\n",
    "# Step 1: Get tokenizer\n",
    "tokenizer = get_tokenizer('basic_english')  # This uses basic English tokenizer. You can choose another.\n",
    "\n",
    "# Step 2: Tokenize sentences\n",
    "def tokenize_data(sentences):\n",
    "    for sentence in sentences:\n",
    "        yield tokenizer(sentence)\n",
    "\n",
    "tokenized_toy_data = tokenizer (toy_data)\n",
    "\n",
    "\n",
    "vocab = build_vocab_from_iterator(tokenize_data(tokenized_toy_data), specials=['<unk>'])\n",
    "vocab.set_default_index(vocab[\"<unk>\"])\n"
   ]
  },
  {
   "cell_type": "markdown",
   "metadata": {},
   "source": [
    "Let's check how a sentence looks like after tokenization and numericalization:\n"
   ]
  },
  {
   "cell_type": "code",
   "execution_count": null,
   "metadata": {},
   "outputs": [],
   "source": [
    "# Test\n",
    "sample_sentence = \"I wish I was a baller\"\n",
    "tokenized_sample = tokenizer(sample_sentence)\n",
    "encoded_sample = [vocab[token] for token in tokenized_sample]\n",
    "print(\"Encoded sample:\", encoded_sample)"
   ]
  },
  {
   "cell_type": "markdown",
   "metadata": {},
   "source": [
    "You can write a fuction to apply numericalization on all tokens: \n"
   ]
  },
  {
   "cell_type": "code",
   "execution_count": null,
   "metadata": {},
   "outputs": [],
   "source": [
    "text_pipeline = lambda tokens:[ vocab[token]  for token in tokens]"
   ]
  },
  {
   "cell_type": "markdown",
   "metadata": {},
   "source": [
    "Let's delve into two main architectures for training word2vec embeddings:\n"
   ]
  },
  {
   "cell_type": "markdown",
   "metadata": {},
   "source": [
    "## Continuous Bag of Words (CBOW)\n",
    "\n",
    "For the Continuous Bag of Words (CBOW) model, use a \"context\" to predict a target word. The \"context\" is typically a set of surrounding words. For example, if your context window is of size 2, then you take two words before and two words after the target word as context. The target word is in red and the context is in blue:\n"
   ]
  },
  {
   "cell_type": "markdown",
   "metadata": {},
   "source": [
    "<table border=\"1\">\n",
    "    <tr>\n",
    "        <th>Time Step</th>\n",
    "        <th>Phrase</th>\n",
    "    </tr>\n",
    "    <tr>\n",
    "        <td>1</td>\n",
    "        <td><span style=\"color:blue;\">I wish</span> <span style=\"color:red;\">I</span> <span style=\"color:blue;\">was  little </span></td>\n",
    "    </tr>\n",
    "    <tr>\n",
    "        <td>2</td>\n",
    "        <td><span style=\"color:blue;\">wish I</span> <span style=\"color:red;\">was</span> <span style=\"color:blue;\">little bit </span></td>\n",
    "    </tr>\n",
    "    <tr>\n",
    "        <td>3</td>\n",
    "        <td><span style=\"color:blue;\">I was</span> <span style=\"color:red;\">little</span> <span style=\"color:blue;\">  bit taller</span></td>\n",
    "    </tr>\n",
    "    <tr>\n",
    "        <td>4</td>\n",
    "        <td><span style=\"color:blue;\">was little</span> <span style=\"color:red;\">bit</span> <span style=\"color:blue;\"> taller I</span></td>\n",
    "    </tr>\n",
    "    <tr>\n",
    "        <td>5</td>\n",
    "        <td><span style=\"color:blue;\">little bit</span> <span style=\"color:red;\">taller</span> <span style=\"color:blue;\"> I wish</span></td>\n",
    "    </tr>\n",
    "    <tr>\n",
    "        <td>6</td>\n",
    "        <td><span style=\"color:blue;\">bit taller</span> <span style=\"color:red;\">I</span> <span style=\"color:blue;\">wish I</span></td>\n",
    "    </tr>\n",
    "    <tr>\n",
    "        <td>7</td>\n",
    "        <td><span style=\"color:blue;\">taller I</span> <span style=\"color:red;\">wish</span> <span style=\"color:blue;\">I was</span></td>\n",
    "    </tr>\n",
    "    <tr>\n",
    "        <td>8</td>\n",
    "        <td><span style=\"color:blue;\">I wish</span> <span style=\"color:red;\">I</span> <span style=\"color:blue;\">was a</span></td>\n",
    "    </tr>\n",
    "    <tr>\n",
    "        <td>9</td>\n",
    "        <td><span style=\"color:blue;\">wish I</span> <span style=\"color:red;\">was</span> <span style=\"color:blue;\">a baller</span></td>\n",
    "    </tr>\n",
    "</table>\n",
    "\n"
   ]
  },
  {
   "cell_type": "markdown",
   "metadata": {},
   "source": [
    "You can slide over the sequence and create training data:\n"
   ]
  },
  {
   "cell_type": "code",
   "execution_count": null,
   "metadata": {},
   "outputs": [],
   "source": [
    "CONTEXT_SIZE = 2\n",
    "\n",
    "\n",
    "cobow_data = []\n",
    "\n",
    "# modified code\n",
    "\n",
    "for i in range(CONTEXT_SIZE, len(tokenized_toy_data ) - CONTEXT_SIZE):\n",
    "\n",
    "    context = (\n",
    "\n",
    "        [tokenized_toy_data [i - CONTEXT_SIZE + j] for j in range(CONTEXT_SIZE)]\n",
    "\n",
    "        + [tokenized_toy_data [i + j + 1] for j in range(CONTEXT_SIZE)]\n",
    "\n",
    "    )\n",
    "\n",
    "    target = tokenized_toy_data [i]\n",
    "\n",
    "    cobow_data.append((context, target))\n",
    "    \n"
   ]
  },
  {
   "cell_type": "markdown",
   "metadata": {},
   "source": [
    "You can print a sample, showcasing both the context words ['wish', 'i', 'was', 'little'] and the target word 'i':\n",
    "<table border=\"1\">\n",
    "    <tr>\n",
    "        <th>Time Step</th>\n",
    "        <th>Phrase</th>\n",
    "    </tr>\n",
    "    <tr>\n",
    "        <td>1</td>\n",
    "        <td><span style=\"color:blue;\">I wish</span> <span style=\"color:red;\">I</span> <span style=\"color:blue;\">was  little </span></td>\n",
    "    </tr>\n",
    "</table>\n"
   ]
  },
  {
   "cell_type": "code",
   "execution_count": null,
   "metadata": {},
   "outputs": [],
   "source": [
    "print(cobow_data[0])"
   ]
  },
  {
   "cell_type": "markdown",
   "metadata": {},
   "source": [
    "You can print the next sample, showcasing both the context ['i', 'wish', 'little', 'bit'] and the target words:'was'\n",
    "<table border=\"1\">\n",
    "    <tr>\n",
    "        <th>Time Step</th>\n",
    "        <th>Phrase</th>\n",
    "    </tr>\n",
    "    <tr>\n",
    "        <td>2</td>\n",
    "        <td><span style=\"color:blue;\">wish I</span> <span style=\"color:red;\">was</span> <span style=\"color:blue;\"> little bit</span></td>\n",
    "    </tr>\n",
    "</table>\n"
   ]
  },
  {
   "cell_type": "code",
   "execution_count": null,
   "metadata": {},
   "outputs": [],
   "source": [
    "print(cobow_data[1])"
   ]
  },
  {
   "cell_type": "markdown",
   "metadata": {},
   "source": [
    "You would want to find the emeddings that guide the model to predict the following probilaties. $P(w_t| w_{t-2},w_{t-1},w_{t+1},w_{t+2})$ is the probability of $w_t$, the target word, conditioned on the occurrence of context words $w_{t-2},w_{t-1},w_{t+1},w_{t+2}$.\n"
   ]
  },
  {
   "cell_type": "markdown",
   "metadata": {},
   "source": [
    "<table border=\"1\">\n",
    "    <thead>\n",
    "        <tr>\n",
    "            <th>\\( P(w_t| w_{t-2},w_{t-1},w_{t+1},w_{t+2}) \\)</th>\n",
    "        </tr>\n",
    "    </thead>\n",
    "    <tbody>\n",
    "        <tr>\n",
    "            <td>\\( P(w_1 | w_{-1},w_0,w_2,w_3) = P(I | \\text{I wish, was little}) \\)</td>\n",
    "        </tr>\n",
    "        <tr>\n",
    "            <td>\\( P(w_2 | w_0,w_1,w_3,w_4) = P(was | \\text{wish I, little bit}) \\)</td>\n",
    "        </tr>\n",
    "        <tr>\n",
    "            <td>\\( P(w_3 | w_1,w_2,w_4,w_5) = P(little | \\text{I was, bit taller}) \\)</td>\n",
    "        </tr>\n",
    "        <tr>\n",
    "            <td>\\( P(w_4 | w_2,w_3,w_5,w_6) = P(bit | \\text{was little, taller I}) \\)</td>\n",
    "        </tr>\n",
    "        <tr>\n",
    "            <td>\\( P(w_5 | w_3,w_4,w_6,w_7) = P(taller | \\text{little bit, I wish}) \\)</td>\n",
    "        </tr>\n",
    "        <tr>\n",
    "            <td>\\( P(w_6 | w_4,w_5,w_7,w_8) = P(I | \\text{bit taller, wish I}) \\)</td>\n",
    "        </tr>\n",
    "        <tr>\n",
    "            <td>\\( P(w_7 | w_5,w_6,w_8,w_9) = P(wish | \\text{taller I, I was}) \\)</td>\n",
    "        </tr>\n",
    "    </tbody>\n",
    "</table>\n"
   ]
  },
  {
   "cell_type": "markdown",
   "metadata": {},
   "source": [
    "The collate_batch function processes batches of data, converting context and target text data into numerical format using a vocabulary and arranging them for model training.\n"
   ]
  },
  {
   "cell_type": "code",
   "execution_count": null,
   "metadata": {},
   "outputs": [],
   "source": [
    "def collate_batch(batch):\n",
    "    target_list, context_list, offsets = [], [], [0]\n",
    "    for _context, _target in batch:\n",
    "        \n",
    "        target_list.append(vocab[_target])  \n",
    "        processed_context = torch.tensor(text_pipeline(_context), dtype=torch.int64)\n",
    "        context_list.append(processed_context)\n",
    "        offsets.append(processed_context.size(0))\n",
    "    target_list = torch.tensor(target_list, dtype=torch.int64)\n",
    "    offsets = torch.tensor(offsets[:-1]).cumsum(dim=0)\n",
    "    context_list = torch.cat(context_list)\n",
    "    return target_list.to(device), context_list.to(device), offsets.to(device)"
   ]
  },
  {
   "cell_type": "code",
   "execution_count": null,
   "metadata": {},
   "outputs": [],
   "source": [
    "device = torch.device(\"cuda\" if torch.cuda.is_available() else \"cpu\")\n",
    "device"
   ]
  },
  {
   "cell_type": "markdown",
   "metadata": {},
   "source": [
    "Selecting the first 10 samples from the `cobow_data` list and processing them using the `collate_batch` function. The outputs are the tokenized target words (`target_list`), the surrounding context words (`context_list`), and the respective offsets for each sample (`offsets`).\n"
   ]
  },
  {
   "cell_type": "code",
   "execution_count": null,
   "metadata": {},
   "outputs": [],
   "source": [
    "target_list, context_list, offsets=collate_batch(cobow_data[0:10])\n",
    "print(f\"target_list(Tokenized target words): {target_list} , context_list(Surrounding context words): {context_list} , offsets(Starting indexes of context words for each target): {offsets} \")\n"
   ]
  },
  {
   "cell_type": "markdown",
   "metadata": {},
   "source": [
    "Create a ```dataLoader``` object:\n"
   ]
  },
  {
   "cell_type": "code",
   "execution_count": null,
   "metadata": {},
   "outputs": [],
   "source": [
    "BATCH_SIZE = 64  # batch size for training\n",
    "\n",
    "dataloader_cbow = DataLoader(\n",
    "    cobow_data, batch_size=BATCH_SIZE, shuffle=True, collate_fn=collate_batch)\n",
    "print(dataloader_cbow) "
   ]
  },
  {
   "cell_type": "markdown",
   "metadata": {},
   "source": [
    "The CBOW model shown here starts with an EmbeddingBag layer, which takes a variable-length list of context word indices and produces an averaged embedding of size embed_dim. This embedding is then passed through a linear layer that reduces its dimension to ```embed_dim/2```. After applying a ReLU activation, the output is processed by another linear layer, transforming it to match the vocabulary size, thus allowing the model to predict the probability of any word from the vocabulary as the target word. The overall flow moves from contextual words' indices to predicting the central word in the Continuous Bag of Words approach.\n"
   ]
  },
  {
   "cell_type": "code",
   "execution_count": null,
   "metadata": {},
   "outputs": [],
   "source": [
    "class CBOW(nn.Module):\n",
    "    # Initialize the CBOW model\n",
    "    def __init__(self, vocab_size, embed_dim, num_class):\n",
    "        \n",
    "        super(CBOW, self).__init__()\n",
    "         # Define the embedding layer using nn.EmbeddingBag\n",
    "        # It outputs the average of context words embeddings\n",
    "        self.embedding = nn.EmbeddingBag(vocab_size, embed_dim, sparse=False)\n",
    "        # Define the first linear layer with input size embed_dim and output size embed_dim//2\n",
    "        self.linear1 = nn.Linear(embed_dim, embed_dim//2)\n",
    "        # Define the fully connected layer with input size embed_dim//2 and output size vocab_size\n",
    "        self.fc = nn.Linear(embed_dim//2, vocab_size)\n",
    "        \n",
    "\n",
    "        self.init_weights()\n",
    "    # Initialize the weights of the model's parameters\n",
    "    def init_weights(self):\n",
    "        # Initialize the weights of the embedding layer\n",
    "        initrange = 0.5\n",
    "        self.embedding.weight.data.uniform_(-initrange, initrange)\n",
    "        # Initialize the weights of the fully connected layer\n",
    "        self.fc.weight.data.uniform_(-initrange, initrange)\n",
    "        # Initialize the biases of the fully connected layer to zeros\n",
    "        self.fc.bias.data.zero_()\n",
    "        \n",
    "\n",
    "    def forward(self, text, offsets):\n",
    "        # Pass the input text and offsets through the embedding layer\n",
    "        out = self.embedding(text, offsets)\n",
    "        # Apply the ReLU activation function to the output of the first linear layer\n",
    "        out = torch.relu(self.linear1(out))\n",
    "        # Pass the output of the ReLU activation through the fully connected layer\n",
    "        return self.fc(out)\n",
    "        "
   ]
  },
  {
   "cell_type": "markdown",
   "metadata": {},
   "source": [
    "Create an instance of the CBOW model:\n"
   ]
  },
  {
   "cell_type": "code",
   "execution_count": null,
   "metadata": {},
   "outputs": [],
   "source": [
    "vocab_size = len(vocab)\n",
    "emsize = 24\n",
    "model_cbow = CBOW(vocab_size, emsize, vocab_size).to(device)"
   ]
  },
  {
   "cell_type": "markdown",
   "metadata": {},
   "source": [
    "Define the loss function, optimizer, and scheduler for training:\n"
   ]
  },
  {
   "cell_type": "code",
   "execution_count": null,
   "metadata": {},
   "outputs": [],
   "source": [
    "\n",
    "LR = 5  # learning rate\n",
    "\n",
    "# Define the CrossEntropyLoss criterion. It is commonly used for multi-class classification tasks.\n",
    "# This criterion combines the softmax function and the negative log-likelihood loss.\n",
    "criterion = torch.nn.CrossEntropyLoss()\n",
    "\n",
    "# Define the optimizer using stochastic gradient descent (SGD).\n",
    "# It optimizes the parameters of the model_cbow, which are obtained by model_cbow.parameters().\n",
    "# The learning rate (lr) determines the step size for parameter updates during optimization.\n",
    "optimizer = torch.optim.SGD(model_cbow.parameters(), lr=LR)\n",
    "\n",
    "# Define a learning rate scheduler.\n",
    "# The StepLR scheduler adjusts the learning rate during training.\n",
    "# It multiplies the learning rate by gamma every step_size epochs (here, 1.0).\n",
    "scheduler = torch.optim.lr_scheduler.StepLR(optimizer, 1.0, gamma=0.1)\n"
   ]
  },
  {
   "cell_type": "markdown",
   "metadata": {},
   "source": [
    "Let's train the model:\n"
   ]
  },
  {
   "cell_type": "code",
   "execution_count": null,
   "metadata": {},
   "outputs": [],
   "source": [
    "model_cbow, epoch_losses=train_model(model_cbow, dataloader_cbow, criterion, optimizer, num_epochs=400)"
   ]
  },
  {
   "cell_type": "markdown",
   "metadata": {},
   "source": [
    "Now, you can plot the loss values over the course of training:\n"
   ]
  },
  {
   "cell_type": "code",
   "execution_count": null,
   "metadata": {},
   "outputs": [],
   "source": [
    "plt.plot(epoch_losses)\n",
    "plt.xlabel(\"epochs\")\n"
   ]
  },
  {
   "cell_type": "markdown",
   "metadata": {},
   "source": [
    "The model's weights are the actual word embeddings. You can load them into a numpy array:\n"
   ]
  },
  {
   "cell_type": "code",
   "execution_count": null,
   "metadata": {},
   "outputs": [],
   "source": [
    "word_embeddings = model_cbow.embedding.weight.detach().cpu().numpy() "
   ]
  },
  {
   "cell_type": "markdown",
   "metadata": {},
   "source": [
    "Now, check the embedded vector for a sample word. Notice the shape of this vector which is equal to the `emsize = 24` that you defined earlier.\n"
   ]
  },
  {
   "cell_type": "code",
   "execution_count": null,
   "metadata": {},
   "outputs": [],
   "source": [
    "word = 'baller'\n",
    "word_index = vocab.get_stoi()[word] # getting the index of the word in the vocab\n",
    "print(word_embeddings[word_index])"
   ]
  },
  {
   "cell_type": "markdown",
   "metadata": {},
   "source": [
    "Now you can check if embeddings are representing the similarities among words. To do this, for the sake of visualization,you need to do dimension reduction on word embeddings to map the embedding space to a 2-d space. You can do this using TSNE in the plot function in the helper functions section.\n"
   ]
  },
  {
   "cell_type": "code",
   "execution_count": null,
   "metadata": {},
   "outputs": [],
   "source": [
    "plot_embeddings(word_embeddings,vocab=vocab)"
   ]
  },
  {
   "cell_type": "markdown",
   "metadata": {},
   "source": [
    "Upon examining the t-SNE projections, it is evident that even with the inevitable information loss from dimensionality reduction and the limitations of a small dataset, words with similar meanings cluster together. For instance, words such as 'bright' and 'shadow' are in proximity near the point (-15, -15) on components 1 and 2. Likewise, 'dog', 'cat', and 'mouse' are grouped around the (5, 5) coordinate, and 'sailed' as well as 'wind' can be found close to the (5, -8) point.\"\n"
   ]
  },
  {
   "cell_type": "markdown",
   "metadata": {},
   "source": [
    "## Skip-gram model\n",
    "\n",
    "The Skip-gram model is one of the two main architectures used in word2vec, a popular technique for learning word embeddings. In the Skip-gram model, the goal is to predict the surrounding words (context) given a central word (target). The main idea behind this model is that words that appear in similar contexts tend to have similar meanings.  Consider this example:\n",
    "\n",
    "**I was little bit taller,**\n",
    "\n",
    "Assuming a context window size of 2, the words in red represent the context, while the word highlighted in blue signifies the target:\n",
    "\n",
    "**<span style=\"color:red;\"> I was</span> <span style=\"color:blue;\">little</span> <span style=\"color:red;\">bit taller, </span>**\n",
    "\n",
    "### Window the Skip-gram:\n",
    "\n",
    "Training the Skip-gram model using the actual context can be computationally expensive. This is because it involves predicting probabilities for each word in the vocabulary for each position in the context as opposed to CBOW that predicts the probabilities for each word in the vocabulary for the target word only. To mitigate this, several approximation techniques are employed.\n",
    "\n",
    "One common approximation technique is to break the full context into smaller parts and predict them one at a time. This not only simplifies the prediction task but also helps in better training as it provides multiple training examples from a single context-target pair.\n",
    "\n",
    "### Using the first row of the table as an example:\n",
    "\n",
    "\n",
    "For the example above the target word is **\"little\"**. The full context for this target word is:\n",
    "**I was bit taller**\n",
    "\n",
    "In the approximation, instead of using the full context to predict the target, you should break it down. There are four approximations in this example:\n",
    "1. Approximation 1: **I**\n",
    "2. Approximation 2: **was**\n",
    "3. Approximation 3: **bit**\n",
    "4. Approximation 4: **taller**\n",
    "\n",
    "For each approximation, the Skip-gram model would aim to predict the target word \"little\" using just that part of the context. This means, for the first approximation, the model will try to predict \"little\" using only the word \"I\". For the second approximation, it will try using only the word \"was,\" and so on.\n",
    "\n",
    "In conclusion, the Skip-gram model aims to understand word relationships by predicting the context from a given target word. Approximation techniques, like the one illustrated, help simplify the training process and make it more efficient.\n"
   ]
  },
  {
   "cell_type": "markdown",
   "metadata": {},
   "source": [
    "<table border=\"1\">\n",
    "    <tr>\n",
    "        <th>Full Context with Target</th>\n",
    "        <th>Target Word</th>\n",
    "        <th>Original Target Context</th>\n",
    "        <th>Approximation 1</th>\n",
    "        <th>Approximation 2</th>\n",
    "        <th>Approximation 3</th>\n",
    "        <th>Approximation 4</th>\n",
    "    </tr>\n",
    "    <tr>\n",
    "        <td><span style=\"color:red;\"> I was</span> <span style=\"color:blue;\">little</span> <span style=\"color:red;\">bit taller, </span></td>\n",
    "        <td>little</td>\n",
    "        <td> I was bit taller,</td>\n",
    "        <td>I</td>\n",
    "        <td>was</td>\n",
    "        <td>bit</td>\n",
    "        <td>taller,</td>\n",
    "    </tr>\n",
    "    <tr>\n",
    "        <td><span style=\"color:red;\"> was little</span> <span style=\"color:blue;\">bit</span> <span style=\"color:red;\">taller, I </span></td>\n",
    "        <td>bit</td>\n",
    "        <td>was little taller, I</td>\n",
    "        <td>was</td>\n",
    "        <td>little</td>\n",
    "        <td>taller,</td>\n",
    "        <td>I</td>\n",
    "    </tr>\n",
    "    <tr>\n",
    "        <td><span style=\"color:red;\">little bit</span> <span style=\"color:blue;\">taller,</span> <span style=\"color:red;\">I wish </span></td>\n",
    "        <td>taller,</td>\n",
    "        <td>little bit I wish</td>\n",
    "        <td>little</td>\n",
    "        <td>bit</td>\n",
    "        <td>I</td>\n",
    "        <td>wish</td>\n",
    "    </tr>\n",
    "    <tr>\n",
    "        <td><span style=\"color:red;\"> bit taller,</span> <span style=\"color:blue;\">I</span> <span style=\"color:red;\">wish I </span></td>\n",
    "        <td>I</td>\n",
    "        <td>bit taller, wish I</td>\n",
    "        <td>bit</td>\n",
    "        <td>taller,</td>\n",
    "        <td>wish</td>\n",
    "        <td>I</td>\n",
    "    </tr>\n",
    "    <tr>\n",
    "        <td><span style=\"color:red;\"> taller, I</span> <span style=\"color:blue;\">wish</span> <span style=\"color:red;\">I was </span></td>\n",
    "        <td>wish</td>\n",
    "        <td>taller, I I was</td>\n",
    "        <td>taller,</td>\n",
    "        <td>I</td>\n",
    "        <td>I</td>\n",
    "        <td>was</td>\n",
    "    </tr>\n",
    "    <!-- More rows can be added in a similar pattern for other words in the phrase. -->\n",
    "</table>\n"
   ]
  },
  {
   "cell_type": "markdown",
   "metadata": {},
   "source": [
    "The goal is to optimize the conditional probabilities for obtaining embeddings. Optimize the conditional probabilities for obtaining high-quality word embeddings. The only difference between continuous bag of words is the structure of the conditional probabilities $P(w_{t+j}| w_{t})$  for your window size $j=-2,-1,..,1,2.$\n"
   ]
  },
  {
   "cell_type": "markdown",
   "metadata": {},
   "source": [
    "<table border=\"1\">\n",
    "    <tr>\n",
    "        <th>j</th>\n",
    "        <th>Target Word t=3 </th>\n",
    "        <th>Context Word</th>\n",
    "        <th>Probability</th>\n",
    "    </tr>\n",
    "    <tr>\n",
    "         <th>-2</th>\n",
    "        <td>little</td>\n",
    "        <td>I</td>\n",
    "        <td> P(I | little) </td>\n",
    "    </tr>\n",
    "    <tr>\n",
    "          <th>-1</th>\n",
    "        <td>little</td>\n",
    "        <td>was</td>\n",
    "        <td> P(was | little)</td>\n",
    "    </tr>\n",
    "    <tr>\n",
    "         <th>1</th>\n",
    "        <td>little</td>\n",
    "        <td>bit</td>\n",
    "        <td>P(bit | little)</td>\n",
    "    </tr>\n",
    "    <tr>\n",
    "         <th>2</th>\n",
    "        <td>little</td>\n",
    "        <td>taller,</td>\n",
    "        <td>P(taller | little) </td>\n",
    "    </tr>\n",
    "    <!-- Repeat rows for each context word for each target word -->\n",
    "</table>\n",
    "\n",
    "\n"
   ]
  },
  {
   "cell_type": "markdown",
   "metadata": {},
   "source": [
    "\n",
    "In contrast to the standard notation in conditional probability, where the dependent variable is typically represented as the target, the current terminology reverses this convention.\n"
   ]
  },
  {
   "cell_type": "markdown",
   "metadata": {},
   "source": [
    "\n"
   ]
  },
  {
   "cell_type": "markdown",
   "metadata": {},
   "source": [
    "\n",
    "<img src=\"https://cf-courses-data.s3.us.cloud-object-storage.appdomain.cloud/IBMSkillsNetwork-AI0201EN-Coursera/targetvsdepenet.gif\" alt=\"image\">\n",
    "\n",
    "\n"
   ]
  },
  {
   "cell_type": "markdown",
   "metadata": {},
   "source": [
    "This code constructs a skip-gram dataset from a tokenized toy data, where for each word (target), it gathers the surrounding words within a specified window (context) defined by CONTEXT_SIZE.\n"
   ]
  },
  {
   "cell_type": "code",
   "execution_count": null,
   "metadata": {},
   "outputs": [],
   "source": [
    "# Define the window size for the context around the target word.\n",
    "CONTEXT_SIZE = 2\n",
    "\n",
    "# Initialize an empty list to store the (target, context) pairs.\n",
    "skip_data = []\n",
    "\n",
    "# Iterate over each word in the tokenized toy_data, while excluding the first \n",
    "# and last few words determined by the CONTEXT_SIZE.\n",
    "for i in range(CONTEXT_SIZE, len(tokenized_toy_data) - CONTEXT_SIZE):\n",
    "\n",
    "    # For a word at position i, the context comprises of words from the preceding CONTEXT_SIZE\n",
    "    # as well as from the succeeding CONTEXT_SIZE. The context words are collected in a list.\n",
    "    context = (\n",
    "        [tokenized_toy_data[i - j - 1] for j in range(CONTEXT_SIZE)]  # Preceding words\n",
    "        + [tokenized_toy_data[i + j + 1] for j in range(CONTEXT_SIZE)]  # Succeeding words\n",
    "    )\n",
    "\n",
    "    # The word at the current position i is taken as the target.\n",
    "    target = tokenized_toy_data[i]\n",
    "\n",
    "    # Append the (target, context) pair to the skip_data list.\n",
    "    skip_data.append((target, context))\n"
   ]
  },
  {
   "cell_type": "markdown",
   "metadata": {},
   "source": [
    "You can window the skipgram\n"
   ]
  },
  {
   "cell_type": "code",
   "execution_count": null,
   "metadata": {},
   "outputs": [],
   "source": [
    "skip_data_=[[(sample[0],word) for word in  sample[1]] for sample in skip_data]"
   ]
  },
  {
   "cell_type": "markdown",
   "metadata": {},
   "source": [
    "You will have pairs of (target, context) words:\n"
   ]
  },
  {
   "cell_type": "code",
   "execution_count": null,
   "metadata": {},
   "outputs": [],
   "source": [
    "skip_data_flat= [item  for items in  skip_data_ for item in items]\n",
    "skip_data_flat[8:28]"
   ]
  },
  {
   "cell_type": "markdown",
   "metadata": {},
   "source": [
    "Creating a collate function to numericalize (target, context) pairs:\n"
   ]
  },
  {
   "cell_type": "code",
   "execution_count": null,
   "metadata": {},
   "outputs": [],
   "source": [
    "def collate_fn(batch):\n",
    "    target_list, context_list = [], []\n",
    "    for _context, _target in batch:\n",
    "        \n",
    "        target_list.append(vocab[_target]) \n",
    "        context_list.append(vocab[_context])\n",
    "        \n",
    "    target_list = torch.tensor(target_list, dtype=torch.int64)\n",
    "    context_list = torch.tensor(context_list, dtype=torch.int64)\n",
    "    return target_list.to(device), context_list.to(device)"
   ]
  },
  {
   "cell_type": "code",
   "execution_count": null,
   "metadata": {},
   "outputs": [],
   "source": [
    "dataloader = DataLoader(skip_data_flat, batch_size=BATCH_SIZE, collate_fn=collate_fn)"
   ]
  },
  {
   "cell_type": "markdown",
   "metadata": {},
   "source": [
    "Let's check a sample batch of target,context after collation:\n"
   ]
  },
  {
   "cell_type": "code",
   "execution_count": null,
   "metadata": {},
   "outputs": [],
   "source": [
    "next(iter(dataloader))"
   ]
  },
  {
   "cell_type": "markdown",
   "metadata": {},
   "source": [
    "Here, you will define the Skip-gram network.\n",
    "The embeddings layer is defined using nn.Embedding, which creates word embeddings for the given vocabulary size and embedding dimension.\n",
    "The fc layer is a fully connected layer with input dimension embed_dim and output dimension vocab_size.\n",
    "\n",
    "In the forward method, the input text is passed through the embeddings layer to obtain the word embeddings. The output of the embeddings layer is then passed through the fc layer.\n",
    "The ReLU activation function is applied to the output of the fc layer. The final output is returned.\n"
   ]
  },
  {
   "cell_type": "code",
   "execution_count": null,
   "metadata": {},
   "outputs": [],
   "source": [
    "class SkipGram_Model(nn.Module):\n",
    "\n",
    "    def __init__(self, vocab_size, embed_dim):\n",
    "        super(SkipGram_Model, self).__init__()\n",
    "        # Define the embeddings layer\n",
    "        self.embeddings = nn.Embedding(\n",
    "            num_embeddings=vocab_size,\n",
    "            embedding_dim=embed_dim\n",
    "        )\n",
    "        \n",
    "        # Define the fully connected layer\n",
    "        self.fc = nn.Linear(in_features=embed_dim, out_features=vocab_size)\n",
    "\n",
    "    def forward(self, text):\n",
    "        # Perform the forward pass\n",
    "        # Pass the input text through the embeddings layer\n",
    "        out = self.embeddings(text)\n",
    "        \n",
    "        # Pass the output of the embeddings layer through the fully connected layer\n",
    "        # Apply the ReLU activation function\n",
    "        out = torch.relu(out)\n",
    "        out = self.fc(out)\n",
    "        \n",
    "        return out"
   ]
  },
  {
   "cell_type": "markdown",
   "metadata": {},
   "source": [
    "Creating an instance of the model:\n"
   ]
  },
  {
   "cell_type": "code",
   "execution_count": null,
   "metadata": {},
   "outputs": [],
   "source": [
    "emsize = 24\n",
    "model_sg = SkipGram_Model(vocab_size, emsize).to(device)"
   ]
  },
  {
   "cell_type": "markdown",
   "metadata": {},
   "source": [
    "Now you are going to train the model on toy data:\n"
   ]
  },
  {
   "cell_type": "code",
   "execution_count": null,
   "metadata": {},
   "outputs": [],
   "source": [
    "LR = 5  # learning rate\n",
    "#BATCH_SIZE = 64  # batch size for training\n",
    "\n",
    "criterion = torch.nn.CrossEntropyLoss()\n",
    "optimizer = torch.optim.SGD(model_sg.parameters(), lr=LR)\n",
    "scheduler = torch.optim.lr_scheduler.StepLR(optimizer, 1.0, gamma=0.1)"
   ]
  },
  {
   "cell_type": "code",
   "execution_count": null,
   "metadata": {},
   "outputs": [],
   "source": [
    "model_sg, epoch_losses=train_model(model_sg, dataloader, criterion, optimizer, num_epochs=400)"
   ]
  },
  {
   "cell_type": "code",
   "execution_count": null,
   "metadata": {},
   "outputs": [],
   "source": [
    "plt.plot(epoch_losses)"
   ]
  },
  {
   "cell_type": "markdown",
   "metadata": {},
   "source": [
    "You can also plot the word embedding by reducing the dimensions using t-SNE:\n"
   ]
  },
  {
   "cell_type": "code",
   "execution_count": null,
   "metadata": {},
   "outputs": [],
   "source": [
    "word_embeddings = model_sg.embeddings.weight.detach().cpu().numpy() \n",
    "plot_embeddings(word_embeddings,vocab=vocab)"
   ]
  },
  {
   "cell_type": "markdown",
   "metadata": {},
   "source": [
    "\n",
    "When selecting CBOW or Skip-Gram, the best approach often depends on the specifics of your task and data. If your dataset is small but you need to have a good representation of rarer words, Skip-gram might be the better choice. If the computational efficiency is more critical and the rare words are less of a concern, CBOW might be adequate. It's also worth noting that for very small datasets, the benefits of neural word embeddings might be limited, and simpler methods or leveraging pretrained embeddings might be more effective.\n",
    "\n"
   ]
  },
  {
   "cell_type": "markdown",
   "metadata": {},
   "source": [
    "Great job! You've acquired the skills to create and train embedding models, as well as utilize large pretrained models for practical applications. This knowledge opens up a world of possibilities where you can leverage the power of embeddings to improve various natural language processing tasks. Keep up the excellent work!\n"
   ]
  },
  {
   "cell_type": "markdown",
   "metadata": {},
   "source": [
    "## Authors\n"
   ]
  },
  {
   "cell_type": "markdown",
   "metadata": {},
   "source": [
    "Fateme Akbari\n"
   ]
  },
  {
   "cell_type": "markdown",
   "metadata": {},
   "source": [
    "```{## Change Log}\n",
    "```\n"
   ]
  },
  {
   "cell_type": "markdown",
   "metadata": {},
   "source": [
    "© Copyright IBM Corporation. All rights reserved.\n"
   ]
  }
 ],
 "metadata": {
  "kernelspec": {
   "display_name": "Python 3 (ipykernel)",
   "language": "python",
   "name": "python3"
  },
  "language_info": {
   "codemirror_mode": {
    "name": "ipython",
    "version": 3
   },
   "file_extension": ".py",
   "mimetype": "text/x-python",
   "name": "python",
   "nbconvert_exporter": "python",
   "pygments_lexer": "ipython3",
   "version": "3.12.8"
  },
  "prev_pub_hash": "4b80c8b387f9251a1ec7c1787f5062abb14f329bf2f16d029cb6b6dcfec213d9"
 },
 "nbformat": 4,
 "nbformat_minor": 4
}
